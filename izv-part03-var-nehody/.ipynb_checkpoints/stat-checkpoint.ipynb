{
 "cells": [
  {
   "cell_type": "markdown",
   "id": "cedfff37-634b-4b89-b0f5-c9a36d64c14a",
   "metadata": {},
   "source": [
    "# Test hypotezy - IZV\n",
    "\n",
    "## Testovanie hypotézy 1: \"Na silnicích první třídy se při nehodách umíralo se stejnou pravděpodobností jako dálnicích.\""
   ]
  },
  {
   "cell_type": "code",
   "execution_count": 1,
   "id": "92f6ab59-4a72-4e45-850c-725db64762e0",
   "metadata": {},
   "outputs": [],
   "source": [
    "import numpy as np\n",
    "import pandas as pd\n",
    "import scipy\n",
    "from scipy import stats"
   ]
  },
  {
   "cell_type": "code",
   "execution_count": 2,
   "id": "daccc6fc-f5c6-4b5b-acfb-cfd1494fd634",
   "metadata": {},
   "outputs": [],
   "source": [
    "df = pd.read_pickle(\"Desktop/izv-part03-var-nehody/accidents.pkl.gz\")"
   ]
  },
  {
   "cell_type": "code",
   "execution_count": 3,
   "id": "19514855-bfb3-4b91-99a9-4ae176a10560",
   "metadata": {},
   "outputs": [],
   "source": [
    "h1=\"Na silnicích první třídy se při nehodách umíralo se stejnou pravděpodobností jako dálnicích.\""
   ]
  },
  {
   "cell_type": "markdown",
   "id": "8cfdde8a-04c2-4eef-989e-b7e19c354a3b",
   "metadata": {},
   "source": [
    "Vytvorenie pomocných premenných pre nehody so strátami na životoch a bez strát na životoch."
   ]
  },
  {
   "cell_type": "code",
   "execution_count": 4,
   "id": "f5f61864-7770-4554-85eb-52a96a8df8b5",
   "metadata": {},
   "outputs": [],
   "source": [
    "deadly = df[df[\"p13a\"] > 0]\n",
    "non_deadly = df[df[\"p13a\"] == 0]"
   ]
  },
  {
   "cell_type": "markdown",
   "id": "a8221d04-5f9b-4821-9896-f5af397b1f40",
   "metadata": {},
   "source": [
    "- d0 sú smrteľné nehody na diaľnici\n",
    "- d1 sú smrteľné nehody na cestách 1. triedy\n",
    "- n0 sú nehody bez strát na životoch na diaľnici\n",
    "- n1 sú nehody bez strát na životoch na cestách 1. triedy"
   ]
  },
  {
   "cell_type": "code",
   "execution_count": 5,
   "id": "8b0ac20a-baf9-4e16-91c9-5fde4925b78f",
   "metadata": {},
   "outputs": [],
   "source": [
    "d0 = deadly[deadly[\"p36\"]==0][\"p36\"].count()\n",
    "d1 = deadly[deadly[\"p36\"]==1][\"p36\"].count()\n",
    "n0 = non_deadly[non_deadly[\"p36\"]==0][\"p36\"].count()\n",
    "n1 = non_deadly[non_deadly[\"p36\"]==1][\"p36\"].count()"
   ]
  },
  {
   "cell_type": "markdown",
   "id": "0aa1d8d5-2fc5-45f2-8f0b-2fc33f95d915",
   "metadata": {},
   "source": [
    "Súčet všetkých nehôd na diaľnici a cestách 1. triedy."
   ]
  },
  {
   "cell_type": "code",
   "execution_count": 6,
   "id": "2d5b75e5-ce73-437a-a0d7-1c0b11316b4f",
   "metadata": {},
   "outputs": [
    {
     "data": {
      "text/plain": [
       "103988"
      ]
     },
     "execution_count": 6,
     "metadata": {},
     "output_type": "execute_result"
    }
   ],
   "source": [
    "n = d0+n0+d1+n1\n",
    "n"
   ]
  },
  {
   "cell_type": "markdown",
   "id": "3be7d85e-38fb-4843-afe1-cb44c22f7ec2",
   "metadata": {},
   "source": [
    "Uloženie do listu listov pre lepšiu reprezentáciu."
   ]
  },
  {
   "cell_type": "code",
   "execution_count": 7,
   "id": "78aa52fd-d0b2-46c2-b478-413b3c10548c",
   "metadata": {},
   "outputs": [
    {
     "data": {
      "text/plain": [
       "[[166, 24293], [911, 78618]]"
      ]
     },
     "execution_count": 7,
     "metadata": {},
     "output_type": "execute_result"
    }
   ],
   "source": [
    "x = [[d0, n0],\n",
    "     [d1, n1]]\n",
    "x"
   ]
  },
  {
   "cell_type": "markdown",
   "id": "655e194e-bf6a-4cf0-9e37-df9de9471e4d",
   "metadata": {},
   "source": [
    "Vytvorenie súčtov smrteľných nehôd, nehôd bez strát na živote, nehôd na diaľnici a nehôd na cestách 1. triedy."
   ]
  },
  {
   "cell_type": "code",
   "execution_count": 8,
   "id": "a6c53a64-fc50-495e-afc4-bab82f37e126",
   "metadata": {},
   "outputs": [
    {
     "data": {
      "text/plain": [
       "(24459, 79529, 1077, 102911)"
      ]
     },
     "execution_count": 8,
     "metadata": {},
     "output_type": "execute_result"
    }
   ],
   "source": [
    "r0 = sum(x[0])\n",
    "r1 = sum(x[1])\n",
    "c0 = sum(np.array(x).T.tolist()[0])\n",
    "c1 = sum(np.array(x).T.tolist()[1])\n",
    "r0, r1, c0, c1"
   ]
  },
  {
   "cell_type": "markdown",
   "id": "ebe4acbb-5e56-4d74-b68d-24d2cecdac14",
   "metadata": {},
   "source": [
    "Výpočet odhadovaných hodnôt."
   ]
  },
  {
   "cell_type": "code",
   "execution_count": 9,
   "id": "c622e6d7-b741-487c-be4c-fbbc744423aa",
   "metadata": {
    "tags": []
   },
   "outputs": [
    {
     "data": {
      "text/plain": [
       "[[253.32098896026466, 24205.679011039734],\n",
       " [823.6790110397353, 78705.32098896026]]"
      ]
     },
     "execution_count": 9,
     "metadata": {},
     "output_type": "execute_result"
    }
   ],
   "source": [
    "de0 = (r0*c0)/n\n",
    "ne0 = (r0*c1)/n\n",
    "de1 = (r1*c0)/n\n",
    "ne1 = (r1*c1)/n\n",
    "y = [[de0, ne0],[de1, ne1]]\n",
    "y"
   ]
  },
  {
   "cell_type": "markdown",
   "id": "54d2886a-f0c2-4cec-8a11-a1becbb14dc8",
   "metadata": {},
   "source": [
    "Výpočet odchyliek reálnych od odhadovaných."
   ]
  },
  {
   "cell_type": "code",
   "execution_count": 10,
   "id": "ba46d0bb-41da-46c0-88ce-2c0cd0da62be",
   "metadata": {},
   "outputs": [],
   "source": [
    "xi_sq = 0\n",
    "for i, row in enumerate(y):\n",
    "    for j, column in enumerate(row):\n",
    "        xi_sq += ((x[i][j]-y[i][j])**2)/y[i][j]"
   ]
  },
  {
   "cell_type": "code",
   "execution_count": 11,
   "id": "4ed3b8d8-fe41-423a-93a7-780dc5dd8f1f",
   "metadata": {},
   "outputs": [
    {
     "name": "stdout",
     "output_type": "stream",
     "text": [
      "hypotéza:' Na silnicích první třídy se při nehodách umíralo se stejnou pravděpodobností jako dálnicích. ' je správna\n",
      "Pri nehodách na cestách prvej triedy došlo ku fatálnej nehode častejšie ako bolo očakávané. reálna: 911 > očakávaná: 823.6790110397353\n"
     ]
    }
   ],
   "source": [
    "if (xi_sq >= 3.84): #3.84 -> xi2 value pre Alpha 0.05 a ddof 1\n",
    "    print(f\"hypotéza:' {h1} ' je správna\")\n",
    "else:\n",
    "    print(f\"hypotéza:' {h1} ' je zamietnutá\")\n",
    "if (d1 > de1):\n",
    "    print(f\"Pri nehodách na cestách prvej triedy došlo ku fatálnej nehode častejšie ako bolo očakávané. reálna: {d1} > očakávaná: {de1}\")\n",
    "else:\n",
    "    print(f\"Pri nehodách na cestách prvej triedy došlo ku fatálnej nehode menej ako bolo očakávané. reálna: {d1} <= očakávaná: {de1}\")"
   ]
  },
  {
   "cell_type": "markdown",
   "id": "90464ae9-1908-4585-89f4-edf87a67d5aa",
   "metadata": {},
   "source": [
    "## Testovanie hypotézy 2: \"Při nehodách vozidel značky Škoda je škoda na vozidle nižší než při nehodách vozidel Audi.\""
   ]
  },
  {
   "cell_type": "code",
   "execution_count": 12,
   "id": "312a9b37-756b-4e6b-853a-189d2d2ed73c",
   "metadata": {},
   "outputs": [],
   "source": [
    "df = pd.read_pickle(\"Desktop/izv-part03-var-nehody/accidents.pkl.gz\")"
   ]
  },
  {
   "cell_type": "code",
   "execution_count": 13,
   "id": "221fa362-272e-4bf8-813a-fa910737d59c",
   "metadata": {},
   "outputs": [],
   "source": [
    "h2 = \"Při nehodách vozidel značky Škoda je škoda na vozidle nižší než při nehodách vozidel Audi.\""
   ]
  },
  {
   "cell_type": "code",
   "execution_count": 14,
   "id": "4b7d8cf7-45e2-4349-ae92-9d88b5cdc97a",
   "metadata": {},
   "outputs": [
    {
     "data": {
      "text/plain": [
       "Ttest_indResult(statistic=23.391701716453692, pvalue=9.244127363326008e-121)"
      ]
     },
     "execution_count": 14,
     "metadata": {},
     "output_type": "execute_result"
    }
   ],
   "source": [
    "scipy.stats.ttest_ind(df[df[\"p45a\"]==2][\"p14\"], df[df[\"p45a\"]==39][\"p14\"])"
   ]
  },
  {
   "cell_type": "code",
   "execution_count": 15,
   "id": "ea1c947a-ff6a-41e5-bd02-c51b84d5ead6",
   "metadata": {},
   "outputs": [
    {
     "data": {
      "text/plain": [
       "894.2141546526867"
      ]
     },
     "execution_count": 15,
     "metadata": {},
     "output_type": "execute_result"
    }
   ],
   "source": [
    "df[df[\"p45a\"]==2][\"p14\"].mean()"
   ]
  },
  {
   "cell_type": "code",
   "execution_count": 16,
   "id": "261df4b6-0b8a-453f-be15-a50aa13c08a5",
   "metadata": {},
   "outputs": [
    {
     "data": {
      "text/plain": [
       "657.6071938435026"
      ]
     },
     "execution_count": 16,
     "metadata": {},
     "output_type": "execute_result"
    }
   ],
   "source": [
    "df[df[\"p45a\"]==39][\"p14\"].mean()"
   ]
  },
  {
   "cell_type": "code",
   "execution_count": null,
   "id": "f280c0cd-5932-4056-b61a-7fc3839f1a24",
   "metadata": {},
   "outputs": [],
   "source": []
  },
  {
   "cell_type": "code",
   "execution_count": null,
   "id": "2f801f0a-91ac-4bd9-a61f-d7675160690e",
   "metadata": {},
   "outputs": [],
   "source": []
  }
 ],
 "metadata": {
  "kernelspec": {
   "display_name": "Python 3 (ipykernel)",
   "language": "python",
   "name": "python3"
  },
  "language_info": {
   "codemirror_mode": {
    "name": "ipython",
    "version": 3
   },
   "file_extension": ".py",
   "mimetype": "text/x-python",
   "name": "python",
   "nbconvert_exporter": "python",
   "pygments_lexer": "ipython3",
   "version": "3.9.7"
  },
  "toc-autonumbering": false,
  "toc-showcode": true,
  "toc-showmarkdowntxt": true
 },
 "nbformat": 4,
 "nbformat_minor": 5
}
